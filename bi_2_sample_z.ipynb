{
 "cells": [
  {
   "cell_type": "code",
   "execution_count": 10,
   "id": "2bf35e7e-b1da-498c-9110-99e4f72cab19",
   "metadata": {},
   "outputs": [],
   "source": [
    "import numpy as np\n",
    "import math\n",
    "import matplotlib.pyplot as plt\n",
    "import scipy.stats as stats\n",
    "import requests\n",
    "import IPython.display as disp\n",
    "import logging\n",
    "\n",
    "p1 = .5\n",
    "p2 = .51\n",
    "min_samples = 1000 \n",
    "alpha = .001\n",
    "skew_url = 'https://www.cnet.com/a/img/resize/d85df57a1aa5881be3bfb4256a181aaf58d4d9ff/hub/2019/05/22/1b710a6b-5f4d-4987-a046-c23674b221a3/picard-meme-facepalm.jpg?auto=webp&fit=crop&height=675&precrop=1331,746,x109,y127&width=1200'    \n",
    "no_skew_url = 'https://techcrunch.com/wp-content/uploads/2018/08/picard.png?w=1390&crop=1' \n",
    "logging.basicConfig(level=logging.INFO)\n",
    "logger = logging.getLogger()\n",
    "\n",
    "def disable_logging():\n",
    "    logger.setLevel(logging.CRITICAL)\n",
    "\n",
    "def enable_logging():\n",
    "    logger.setLevel(logging.INFO)"
   ]
  },
  {
   "cell_type": "code",
   "execution_count": 23,
   "id": "fac2812f-1801-438f-b5df-4727aa21d39e",
   "metadata": {},
   "outputs": [],
   "source": [
    "# helper functions\n",
    "\n",
    "def generate_sample(p, n): \n",
    "    X1 = np.random.binomial(1, p, n)    \n",
    "    sample_p = sum(X1)/n\n",
    "    logger.info(\"sample proportion is: %f\", sample_p ) \n",
    "    sample_var = sample_p * (1 - sample_p)\n",
    "    logger.info(\"sample variance is: %f\", sample_var ) \n",
    "    return sample_p, sample_var\n",
    "\n",
    "def generate_pooled_SE(sample_var_1, sample_var_2, n1, n2):\n",
    "    pooled_sample_var = (sample_var_1)/n1 + (sample_var_2/n2)\n",
    "    logger.info(\"pooled sample variance is: %f\", pooled_sample_var ) \n",
    "    sample_error = math.sqrt(pooled_sample_var)\n",
    "    logger.info(\"pooled sample error is: %f\", sample_error ) \n",
    "    return sample_error\n",
    "\n",
    "def generate_p_value_from_two_samples(X1, X2, SE):\n",
    "    z_score = (X1 - X2) / SE\n",
    "    logger.info(\"z score is %f\", z_score)\n",
    "    p_value = 2 * (1 - stats.norm.cdf(abs(z_score)))\n",
    "    logger.info(\"p value is: %f\", p_value ) \n",
    "    return p_value\n"
   ]
  },
  {
   "cell_type": "code",
   "execution_count": 33,
   "id": "44211cfe-42c5-4d79-90ed-d9758cbb19c9",
   "metadata": {},
   "outputs": [
    {
     "name": "stderr",
     "output_type": "stream",
     "text": [
      "INFO:root:sample proportion is: 0.466000\n",
      "INFO:root:sample variance is: 0.248844\n",
      "INFO:root:sample proportion is: 0.504900\n",
      "INFO:root:sample variance is: 0.249976\n",
      "INFO:root:pooled sample variance is: 0.000050\n",
      "INFO:root:pooled sample error is: 0.007063\n",
      "INFO:root:z score is -5.507794\n",
      "INFO:root:p value is: 0.000000\n"
     ]
    }
   ],
   "source": [
    "n1 = n2 = 10000\n",
    "s_p_1, s_var_1 = generate_sample(.47, n1)\n",
    "s_p_2, s_var_2 = generate_sample(.5, n2)\n",
    "sample_error = generate_pooled_SE(s_var_1, s_var_2, n1, n2)\n",
    "p = generate_p_value_from_two_samples(s_p_1, s_p_2, sample_error)\n"
   ]
  },
  {
   "cell_type": "code",
   "execution_count": null,
   "id": "1c02d0c1-a13d-4488-8bd8-2ba704eedc77",
   "metadata": {},
   "outputs": [],
   "source": []
  },
  {
   "cell_type": "code",
   "execution_count": null,
   "id": "fac748b1-ebf3-4f4e-87d0-c5df9e12a3ac",
   "metadata": {},
   "outputs": [],
   "source": []
  }
 ],
 "metadata": {
  "kernelspec": {
   "display_name": "Python 3 (ipykernel)",
   "language": "python",
   "name": "python3"
  },
  "language_info": {
   "codemirror_mode": {
    "name": "ipython",
    "version": 3
   },
   "file_extension": ".py",
   "mimetype": "text/x-python",
   "name": "python",
   "nbconvert_exporter": "python",
   "pygments_lexer": "ipython3",
   "version": "3.11.7"
  }
 },
 "nbformat": 4,
 "nbformat_minor": 5
}
